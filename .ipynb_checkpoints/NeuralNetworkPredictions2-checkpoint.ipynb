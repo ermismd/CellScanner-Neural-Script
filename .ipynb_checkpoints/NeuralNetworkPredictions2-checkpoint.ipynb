{
 "cells": [
  {
   "cell_type": "code",
   "execution_count": 41,
   "id": "85b7a274-8f29-4579-9eaf-1f8c8150f4bb",
   "metadata": {
    "scrolled": true
   },
   "outputs": [],
   "source": [
    "#!pip install --upgrade pandas plotly\n",
    "#!pip install umap-learn\n",
    "#!pip install pandas numpy fcsparser scikit-learn\n",
    "#!pip install tensorflow keras\n",
    "#!pip install matplotlib seaborn plotly\n",
    "#!pip install pandas\n",
    "#!pip install jupyterlab --upgrade\n",
    "#!pip install -U kaleido\n",
    "#jupyter labextension update jupyterlab-plotly\n",
    "\n",
    "\n"
   ]
  },
  {
   "cell_type": "markdown",
   "id": "6c53abd8-4d68-482c-ac51-ebdf3bbaf18b",
   "metadata": {},
   "source": [
    "# Import Libraries"
   ]
  },
  {
   "cell_type": "code",
   "execution_count": 132,
   "id": "fa99789a-c223-4c3b-a417-e35e9d391fa3",
   "metadata": {
    "scrolled": true
   },
   "outputs": [],
   "source": [
    "#General Imports\n",
    "import os\n",
    "import pandas as pd\n",
    "import numpy as np\n",
    "import fcsparser\n",
    "from collections import Counter\n",
    "\n",
    "#Imports for MLP\n",
    "from sklearn.decomposition import PCA\n",
    "from sklearn.preprocessing import LabelEncoder\n",
    "from sklearn.model_selection import train_test_split\n",
    "from sklearn.preprocessing import MinMaxScaler\n",
    "from sklearn.metrics import accuracy_score, precision_recall_fscore_support, confusion_matrix\n",
    "from sklearn.metrics import precision_score, recall_score, f1_score, accuracy_score\n",
    "from sklearn.preprocessing import StandardScaler\n",
    "from sklearn.metrics import classification_report\n",
    "\n",
    "from tensorflow.keras.models import Sequential\n",
    "from tensorflow.keras.layers import Dense\n",
    "from tensorflow.keras.utils import to_categorical\n",
    "from tensorflow.keras.callbacks import EarlyStopping\n",
    "\n",
    "from keras.models import load_model\n",
    "from keras.layers import Dense, SimpleRNN\n",
    "from keras.layers import Dense, Dropout\n",
    "from keras.models import Sequential\n",
    "from keras.layers import Dense, Input \n",
    "\n",
    "#Visualizations\n",
    "\n",
    "import plotly.graph_objects as go\n",
    "import plotly.express as px\n",
    "import plotly.graph_objects as go\n",
    "from plotly.offline import plot\n",
    "import seaborn as sns\n",
    "import matplotlib.pyplot as plt\n",
    "\n",
    "#from keras.layers import Conv1D, MaxPooling1D, Flatten, Dense\n",
    "\n",
    "#from umap import UMAP\n",
    "\n"
   ]
  },
  {
   "cell_type": "markdown",
   "id": "20951989-2c13-48de-a838-c93e736a951e",
   "metadata": {},
   "source": [
    "# Import Monoculture Files and Blanks"
   ]
  },
  {
   "cell_type": "code",
   "execution_count": 26,
   "id": "80709c10-2334-48be-a376-5ae187f86157",
   "metadata": {},
   "outputs": [],
   "source": [
    "def load_and_sample_data(folder_path, species, sample_size=20000, files_to_process=None):\n",
    "    columns_to_keep = [ 'FSC-H','FSC-A','SSC-H','SSC-A','FITC-H', 'FITC-A','PerCP-H','PerCP-A','APC-H','APC-A','KO525-H','KO525-A','PE-H','PE-A','ECD-H','ECD-A','PI-H','PI-A','FSC-Width'] #['FSC-H', 'FSC-A', 'SSC-H', 'SSC-A', 'FITC-H', 'FITC-A', 'PI-H', 'PI-A', 'FSC-Width']\n",
    "    data_list = []\n",
    "    processed_files = 0\n",
    "    total_samples = 0  \n",
    "\n",
    "    for filename in sorted(os.listdir(folder_path)):\n",
    "        if filename.endswith('.fcs'):\n",
    "            if files_to_process is not None and processed_files >= files_to_process:\n",
    "                break\n",
    "            filepath = os.path.join(folder_path, filename)\n",
    "            meta, data = fcsparser.parse(filepath, meta_data_only=False, reformat_meta=True)\n",
    "            data = data.loc[:, data.columns.intersection(columns_to_keep)]\n",
    "            sampled_data = data.sample(n=min(sample_size, len(data)), random_state=1)\n",
    "            sampled_data['label'] = species\n",
    "            data_list.append(sampled_data)\n",
    "            processed_files += 1\n",
    "            total_samples += len(sampled_data)  \n",
    "    combined_data = pd.concat(data_list)\n",
    "    return combined_data, processed_files, total_samples\n",
    "\n",
    "# File paths and number of fsc files to import\n",
    "bacteroides_data, bacteroides_files, bacteroides_samples = load_and_sample_data(\"C:/Users/herme/Desktop/Live_Dead_Data/BT\", 'bacteroides', files_to_process=None)\n",
    "blautia_data, blautia_files, blautia_samples = load_and_sample_data('C:/Users/herme/Desktop/Live_Dead_Data/BH', 'blautia', files_to_process=None)\n",
    "blanks_data, blanks_files, blanks_samples = load_and_sample_data('C:/Users/herme/Desktop/Live_Dead_Data/Blanks', 'blank', files_to_process=None)\n",
    "\n",
    "#all_data = pd.concat([bacteroides_data, blautia_data, blanks_data])\n"
   ]
  },
  {
   "cell_type": "code",
   "execution_count": 27,
   "id": "9fddd1c0-f751-4526-add5-e15cc9fe34b7",
   "metadata": {},
   "outputs": [
    {
     "name": "stdout",
     "output_type": "stream",
     "text": [
      "Bacteroides: 16 files processed, 320000 samples\n",
      "Blautia: 16 files processed, 320000 samples\n",
      "Blanks: 10 files processed, 38520 samples\n",
      "Total: 42 files processed, 678520 samples\n"
     ]
    }
   ],
   "source": [
    "# Display the counts for the imported files\n",
    "print(f\"Bacteroides: {bacteroides_files} files processed, {bacteroides_samples} samples\")\n",
    "print(f\"Blautia: {blautia_files} files processed, {blautia_samples} samples\")\n",
    "print(f\"Blanks: {blanks_files} files processed, {blanks_samples} samples\")\n",
    "total_files = bacteroides_files + blautia_files + blanks_files\n",
    "total_samples = bacteroides_samples + blautia_samples + blanks_samples\n",
    "print(f\"Total: {total_files} files processed, {total_samples} samples\")\n",
    "\n",
    "#label_counts = all_data['label'].value_counts()\n",
    "#print(label_counts)"
   ]
  },
  {
   "cell_type": "code",
   "execution_count": null,
   "id": "5f8d2ed1-0584-46a4-a4f3-52f2f55f2b66",
   "metadata": {},
   "outputs": [],
   "source": []
  },
  {
   "cell_type": "markdown",
   "id": "28455e67-6416-4d78-8c74-905dd91e3f12",
   "metadata": {},
   "source": [
    "## Distributions of Monocultures and Blanks"
   ]
  },
  {
   "cell_type": "markdown",
   "id": "9456c40f-791c-49f2-8ddb-0a3bd9246268",
   "metadata": {},
   "source": [
    "#### Save the distribution of each with plotly"
   ]
  },
  {
   "cell_type": "code",
   "execution_count": 28,
   "id": "5f745f87-a806-47c8-89b2-6a033515de6e",
   "metadata": {},
   "outputs": [],
   "source": [
    "datasets = { 'Bacteroides': bacteroides_data, 'Blautia': blautia_data, 'Blanks': blanks_data }\n",
    "features_to_visualize = ['SSC-A', 'PI-H', 'FITC-A']  # Features/channels to visualize\n",
    "colors = ['skyblue', 'salmon', 'lightgreen']  # Colors\n",
    "\n",
    "for species_name, data in datasets.items():\n",
    "    fig = go.Figure()\n",
    "\n",
    "    for i, feature in enumerate(features_to_visualize):\n",
    "        transformed_feature = np.arcsinh(data[feature] / 150)  \n",
    "        # Add histogram for each feature with probability density\n",
    "        fig.add_trace(go.Histogram(x=transformed_feature,\n",
    "                                   name=f'{feature} (arcsinh transformed)',\n",
    "                                   marker_color=colors[i],\n",
    "                                   opacity=0.6,\n",
    "                                   histnorm='probability density'))\n",
    "\n",
    "    # Update the layout for each species plot\n",
    "    fig.update_layout(title_text=f'Distributions of Channels (arcsinh transformed) - {species_name}',\n",
    "                      xaxis_title_text='Arcsinh Values',\n",
    "                      yaxis_title_text='Probability Density',  \n",
    "                      bargap=0.2,  \n",
    "                      legend_title_text='Feature')\n",
    "\n",
    "    # Save the plot as an HTML file\n",
    "    file_name = f'{species_name}_distribution_plot.html'\n",
    "    plot(fig, filename=file_name, auto_open=False)"
   ]
  },
  {
   "cell_type": "markdown",
   "id": "5ef43d8e-4c67-4ed8-9819-b71b5aeedfb0",
   "metadata": {},
   "source": [
    "#### Show the distributions for each data(blanks ,blautia,bacteroides ) with matplot"
   ]
  },
  {
   "cell_type": "code",
   "execution_count": 29,
   "id": "89b0dd4e-5a16-45e5-ae39-d08aa50f72e6",
   "metadata": {
    "scrolled": true
   },
   "outputs": [
    {
     "data": {
      "image/png": "[encoded data removed]",
      "text/plain": [
       "<Figure size 1000x600 with 1 Axes>"
      ]
     },
     "metadata": {},
     "output_type": "display_data"
    },
    {
     "data": {
      "image/png": "[encoded data removed]",
      "text/plain": [
       "<Figure size 1000x600 with 1 Axes>"
      ]
     },
     "metadata": {},
     "output_type": "display_data"
    },
    {
     "data": {
      "image/png": "[encoded data removed]",
      "text/plain": [
       "<Figure size 1000x600 with 1 Axes>"
      ]
     },
     "metadata": {},
     "output_type": "display_data"
    }
   ],
   "source": [
    " datasets = {\n",
    "     'Bacteroides': bacteroides_data,\n",
    "     'Blautia': blautia_data,\n",
    "     'Blanks': blanks_data\n",
    " }\n",
    "\n",
    "features_to_visualize = ['SSC-A', 'PI-H', 'FITC-A']  # Features/channels to visualize\n",
    "colors = ['skyblue', 'salmon', 'lightgreen']  # Colors\n",
    "\n",
    "for species_name, data in datasets.items():\n",
    "    plt.figure(figsize=(10, 6))  # Set the figure size\n",
    "    \n",
    "    # Plot histogram for each feature\n",
    "    for i, feature in enumerate(features_to_visualize):\n",
    "        transformed_feature = np.arcsinh(data[feature] / 150)\n",
    "        \n",
    "        # Calculate density\n",
    "        density, bins, _ = plt.hist(transformed_feature, bins=30, color=colors[i], alpha=0.6, density=True, label=f'{feature} (arcsinh transformed)')\n",
    "        count, _ = np.histogram(transformed_feature, bins)\n",
    "        cum_density = np.cumsum(density * np.diff(bins))\n",
    "        \n",
    "        # Add a line plot for the cumulative density\n",
    "        plt.plot(bins[1:], cum_density, color=colors[i])\n",
    "    \n",
    "    plt.title(f'Distributions of Channels (arcsinh transformed) - {species_name}')\n",
    "    plt.xlabel('Arcsinh Values')\n",
    "    plt.ylabel('Probability Density')\n",
    "    plt.legend()\n",
    "    plt.show()"
   ]
  },
  {
   "cell_type": "markdown",
   "id": "425229f5-7dae-4407-9cd3-4500f179ff8a",
   "metadata": {},
   "source": [
    "# Gate optional the bacteroides and blautia data to remove blank readings"
   ]
  },
  {
   "cell_type": "code",
   "execution_count": 130,
   "id": "d1206de4-940a-418d-a061-e0cd78d20341",
   "metadata": {},
   "outputs": [
    {
     "name": "stderr",
     "output_type": "stream",
     "text": [
      "C:\\Users\\herme\\AppData\\Local\\Temp\\ipykernel_18276\\373233024.py:18: SettingWithCopyWarning:\n",
      "\n",
      "\n",
      "A value is trying to be set on a copy of a slice from a DataFrame\n",
      "\n",
      "See the caveats in the documentation: https://pandas.pydata.org/pandas-docs/stable/user_guide/indexing.html#returning-a-view-versus-a-copy\n",
      "\n",
      "C:\\Users\\herme\\AppData\\Local\\Temp\\ipykernel_18276\\373233024.py:19: SettingWithCopyWarning:\n",
      "\n",
      "\n",
      "A value is trying to be set on a copy of a slice from a DataFrame\n",
      "\n",
      "See the caveats in the documentation: https://pandas.pydata.org/pandas-docs/stable/user_guide/indexing.html#returning-a-view-versus-a-copy\n",
      "\n",
      "C:\\Users\\herme\\AppData\\Local\\Temp\\ipykernel_18276\\373233024.py:20: SettingWithCopyWarning:\n",
      "\n",
      "\n",
      "A value is trying to be set on a copy of a slice from a DataFrame\n",
      "\n",
      "See the caveats in the documentation: https://pandas.pydata.org/pandas-docs/stable/user_guide/indexing.html#returning-a-view-versus-a-copy\n",
      "\n"
     ]
    }
   ],
   "source": [
    "# Create copies of the datasets to preserve the original data\n",
    "bacteroides_copy = bacteroides_data.copy()\n",
    "blautia_copy = blautia_data.copy()\n",
    "blanks_copy = blanks_data.copy()\n",
    "\n",
    "# Define your PI threshold and cofactor for the arcsinh transformation\n",
    "pi_threshold = 1  # Example threshold, adjust as needed\n",
    "cofactor = 150  # Cofactor for arcsinh transformation, adjust as needed\n",
    "\n",
    "# Perform an arcsinh transformation on the copies\n",
    "bacteroides_copy.loc[:, ['PI-A', 'PI-H']] = np.arcsinh(bacteroides_copy.loc[:, ['PI-A', 'PI-H']] / cofactor)\n",
    "blautia_copy.loc[:, ['PI-A', 'PI-H']] = np.arcsinh(blautia_copy.loc[:, ['PI-A', 'PI-H']] / cofactor)\n",
    "blanks_copy.loc[:, ['PI-A', 'PI-H']] = np.arcsinh(blanks_copy.loc[:, ['PI-A', 'PI-H']] / cofactor)\n",
    "\n",
    "# Apply the gating threshold after the transformation on the copies\n",
    "# For bacteroides_copy and blautia_copy, keep rows where 'PI-A' is above the threshold\n",
    "bacteroides_filtered = bacteroides_copy[bacteroides_copy['PI-A'] > pi_threshold]\n",
    "blautia_filtered = blautia_copy[blautia_copy['PI-A'] > pi_threshold]\n",
    "\n",
    "# For blanks_copy, keep rows where 'PI-A' is below the threshold\n",
    "blanks_filtered = blanks_copy[blanks_copy['PI-A'] < pi_threshold]\n",
    "\n",
    "# Now bacteroides_filtered, blautia_filtered, and blanks_filtered contain the filtered data\n",
    "# without altering the original datasets.\n"
   ]
  },
  {
   "cell_type": "code",
   "execution_count": 31,
   "id": "4eac0279-2124-42b0-a3ca-62009c78b489",
   "metadata": {},
   "outputs": [],
   "source": [
    "# Assuming your original datasets are bacteroides_data, blautia_data, and blanks_data\n",
    "\n",
    "def identify_rows_to_keep(data, threshold, cofactor):\n",
    "    \"\"\"Apply arcsinh transformation and identify rows meeting the threshold criteria.\"\"\"\n",
    "    # Apply the arcsinh transformation\n",
    "    transformed_PI_A = np.arcsinh(data['PI-A'] / cofactor)\n",
    "    \n",
    "    # Identify rows that meet the threshold condition\n",
    "    rows_to_keep = transformed_PI_A > threshold\n",
    "    return rows_to_keep\n",
    "\n",
    "# Identify rows to keep for each dataset\n",
    "bacteroides_rows_to_keep = identify_rows_to_keep(bacteroides_data, 1, 150)\n",
    "blautia_rows_to_keep = identify_rows_to_keep(blautia_data, 1, 150)\n",
    "#blanks_rows_to_keep = identify_rows_to_keep(blanks_data, pi_threshold, cofactor) \n",
    "\n",
    "\n",
    "# Filter the original datasets based on the identified rows to keep\n",
    "filtered_bacteroides_data = bacteroides_data[bacteroides_rows_to_keep]\n",
    "filtered_blautia_data = blautia_data[blautia_rows_to_keep]\n",
    "#filtered_blanks_data = blanks_data[~blanks_rows_to_keep]  # Assuming you want to exclude these rows; adjust based on your logic"
   ]
  },
  {
   "cell_type": "markdown",
   "id": "160d28f8-6a3a-41c8-b92d-b2440ee4f7e7",
   "metadata": {},
   "source": [
    "# Concatanate the 3 datasets (Blautia,bacteroides,blanks)"
   ]
  },
  {
   "cell_type": "code",
   "execution_count": 30,
   "id": "148c6cff-905d-4d1a-9da5-8394de7bd2a3",
   "metadata": {},
   "outputs": [],
   "source": [
    "# Now, you can concatenate them with the blanks_data\n",
    "all_data = pd.concat([bacteroides_data, blautia_data, blanks_data])\n",
    "\n",
    "#all_data = pd.concat([filtered_bacteroides_data, filtered_blautia_data, blanks_data])"
   ]
  },
  {
   "cell_type": "code",
   "execution_count": 31,
   "id": "d440de57-41b9-4ce2-b029-7fd5cb299594",
   "metadata": {},
   "outputs": [
    {
     "name": "stdout",
     "output_type": "stream",
     "text": [
      "Number of bacteroides samples after gating: 320000\n",
      "Number of blautia samples after gating: 320000\n",
      "Number of blank samples after gating: 38520\n",
      "Total number of samples in all_data: 678520\n"
     ]
    }
   ],
   "source": [
    "# Counting the number of samples in each dataset after gating\n",
    "bacteroides_count_after_gating = bacteroides_data.shape[0]\n",
    "blautia_count_after_gating = blautia_data.shape[0]\n",
    "blanks_count_after_gating=blanks_data.shape[0]\n",
    "\n",
    "print(\"Number of bacteroides samples after gating:\", bacteroides_count_after_gating)\n",
    "print(\"Number of blautia samples after gating:\", blautia_count_after_gating)\n",
    "print(\"Number of blank samples after gating:\", blanks_count_after_gating)\n",
    "\n",
    "# Counting the total number of samples in all_data after concatenation\n",
    "all_data_count = all_data.shape[0]\n",
    "\n",
    "print(\"Total number of samples in all_data:\", all_data_count)"
   ]
  },
  {
   "cell_type": "code",
   "execution_count": 101,
   "id": "b4880109-e1c8-4eef-a383-46abdc747e9f",
   "metadata": {},
   "outputs": [],
   "source": [
    "#all_data.to_csv('all_data.tsv', sep='\\t', index=False)"
   ]
  },
  {
   "cell_type": "markdown",
   "id": "47822fed-448d-4151-b3a3-8b4105370479",
   "metadata": {},
   "source": [
    "# Prepare the Imported Monoculture and Blank files for Training"
   ]
  },
  {
   "cell_type": "code",
   "execution_count": 32,
   "id": "e09c566d-9800-4341-9ab8-aa1d641934bb",
   "metadata": {
    "scrolled": true
   },
   "outputs": [],
   "source": [
    "# PCA whitening transformation function ---------------------------------\n",
    "#def whiten(X):\n",
    "#    X_centered = X - np.mean(X, axis=0)\n",
    "#    pca = PCA(whiten=True)\n",
    " #   X_whitened = pca.fit_transform(X_centered)\n",
    "#    return X_whitened\n",
    "#-----------------------------------------------------------------------\n",
    "\n",
    "# Preparing the dataset for training (all the monoculture fsc)\n",
    "X = all_data.drop('label', axis=1)\n",
    "\n",
    "# Standard scaling (optional)\n",
    "scaler = StandardScaler()\n",
    "X_scaled = scaler.fit_transform(X)\n",
    "\n",
    "# Apply arcsinh transformation\n",
    "X_arcsinh = np.arcsinh(X_scaled / 150)\n",
    "\n",
    "# PCA Whitening\n",
    "pca = PCA(whiten=True)\n",
    "X_whitened = pca.fit_transform(X_arcsinh)\n",
    "\n",
    "# Initialize the LabelEncoder and encode the labels\n",
    "le = LabelEncoder()\n",
    "y = le.fit_transform(all_data['label'])\n",
    "y_categorical = to_categorical(y)\n",
    "\n",
    "\n",
    "# Splitting the data for training and validation\n",
    "X_train, X_val, y_train, y_val = train_test_split(X_whitened  , y_categorical, test_size=0.2, random_state=42) #X_whitened instead of arcsinh\n",
    "\n"
   ]
  },
  {
   "cell_type": "markdown",
   "id": "f0f00fa1-a2b2-4d25-8989-065a26996f75",
   "metadata": {},
   "source": [
    "#### Check the encoded labels used for training"
   ]
  },
  {
   "cell_type": "code",
   "execution_count": 33,
   "id": "a8c00c66-6e17-4eb2-bdf6-08c8284dadb3",
   "metadata": {},
   "outputs": [
    {
     "name": "stdout",
     "output_type": "stream",
     "text": [
      "{0: 'bacteroides', 1: 'blank', 2: 'blautia'}\n"
     ]
    }
   ],
   "source": [
    "# Check what 0, 1, and 2 correspond to in the labels for the encoding:\n",
    "labels_to_check = [0, 1, 2]\n",
    "original_labels = le.inverse_transform(labels_to_check)\n",
    "\n",
    "# Print the original string labels for 0, 1, and 2\n",
    "print({encoded: label for encoded, label in zip(labels_to_check, original_labels)})"
   ]
  },
  {
   "cell_type": "code",
   "execution_count": 8,
   "id": "5bc1d754-a714-4ee8-b71c-71d789a6bf97",
   "metadata": {},
   "outputs": [],
   "source": [
    "#Check label Encoding\n",
    "#print(y)\n",
    "#print(y_categorical )\n",
    "#y_df=pd.DataFrame(y)\n",
    "y_cat_df=pd.DataFrame(y_categorical)\n",
    "#y_df.to_csv('y.tsv', sep='\\t', index=False)\n",
    "y_cat_df.to_csv('y_cate.tsv', sep='\\t', index=False)\n",
    "\n",
    "# To see the mapping from integer encoding back to original string labels:\n",
    "#inverse_map = le.inverse_transform(y)\n",
    "\n",
    "# Now, 'inverse_map' is a dictionary where keys are integer labels and values are the original strings\n",
    "#print(inverse_map)"
   ]
  },
  {
   "cell_type": "markdown",
   "id": "37e093fc-9429-4b19-a4c4-492f7a740ae6",
   "metadata": {},
   "source": [
    "# Train the Neural Network(feedfowrward)-(2 hidden layers with relu and 1 output layer with softmax for classification) "
   ]
  },
  {
   "cell_type": "code",
   "execution_count": 37,
   "id": "280869c4-90ab-4189-bb43-901e43a5cc5d",
   "metadata": {
    "scrolled": true
   },
   "outputs": [
    {
     "name": "stdout",
     "output_type": "stream",
     "text": [
      "Epoch 1/50\n",
      "\u001b[1m16963/16963\u001b[0m \u001b[32m━━━━━━━━━━━━━━━━━━━━\u001b[0m\u001b[37m\u001b[0m \u001b[1m12s\u001b[0m 663us/step - accuracy: 0.9274 - loss: 0.2191 - val_accuracy: 0.9596 - val_loss: 0.1164\n",
      "Epoch 2/50\n",
      "\u001b[1m16963/16963\u001b[0m \u001b[32m━━━━━━━━━━━━━━━━━━━━\u001b[0m\u001b[37m\u001b[0m \u001b[1m11s\u001b[0m 649us/step - accuracy: 0.9618 - loss: 0.1109 - val_accuracy: 0.9649 - val_loss: 0.0999\n",
      "Epoch 3/50\n",
      "\u001b[1m16963/16963\u001b[0m \u001b[32m━━━━━━━━━━━━━━━━━━━━\u001b[0m\u001b[37m\u001b[0m \u001b[1m11s\u001b[0m 646us/step - accuracy: 0.9655 - loss: 0.0983 - val_accuracy: 0.9665 - val_loss: 0.0990\n",
      "Epoch 4/50\n",
      "\u001b[1m16963/16963\u001b[0m \u001b[32m━━━━━━━━━━━━━━━━━━━━\u001b[0m\u001b[37m\u001b[0m \u001b[1m11s\u001b[0m 660us/step - accuracy: 0.9666 - loss: 0.0959 - val_accuracy: 0.9669 - val_loss: 0.0962\n",
      "Epoch 5/50\n",
      "\u001b[1m16963/16963\u001b[0m \u001b[32m━━━━━━━━━━━━━━━━━━━━\u001b[0m\u001b[37m\u001b[0m \u001b[1m11s\u001b[0m 654us/step - accuracy: 0.9678 - loss: 0.0929 - val_accuracy: 0.9671 - val_loss: 0.0958\n",
      "Epoch 6/50\n",
      "\u001b[1m16963/16963\u001b[0m \u001b[32m━━━━━━━━━━━━━━━━━━━━\u001b[0m\u001b[37m\u001b[0m \u001b[1m11s\u001b[0m 658us/step - accuracy: 0.9679 - loss: 0.0914 - val_accuracy: 0.9665 - val_loss: 0.0965\n",
      "Epoch 7/50\n",
      "\u001b[1m16963/16963\u001b[0m \u001b[32m━━━━━━━━━━━━━━━━━━━━\u001b[0m\u001b[37m\u001b[0m \u001b[1m11s\u001b[0m 648us/step - accuracy: 0.9681 - loss: 0.0907 - val_accuracy: 0.9682 - val_loss: 0.0930\n",
      "Epoch 8/50\n",
      "\u001b[1m16963/16963\u001b[0m \u001b[32m━━━━━━━━━━━━━━━━━━━━\u001b[0m\u001b[37m\u001b[0m \u001b[1m11s\u001b[0m 646us/step - accuracy: 0.9687 - loss: 0.0892 - val_accuracy: 0.9671 - val_loss: 0.0958\n",
      "Epoch 9/50\n",
      "\u001b[1m16963/16963\u001b[0m \u001b[32m━━━━━━━━━━━━━━━━━━━━\u001b[0m\u001b[37m\u001b[0m \u001b[1m11s\u001b[0m 639us/step - accuracy: 0.9687 - loss: 0.0892 - val_accuracy: 0.9688 - val_loss: 0.0896\n",
      "Epoch 10/50\n",
      "\u001b[1m16963/16963\u001b[0m \u001b[32m━━━━━━━━━━━━━━━━━━━━\u001b[0m\u001b[37m\u001b[0m \u001b[1m11s\u001b[0m 656us/step - accuracy: 0.9692 - loss: 0.0878 - val_accuracy: 0.9691 - val_loss: 0.0895\n",
      "Epoch 11/50\n",
      "\u001b[1m16963/16963\u001b[0m \u001b[32m━━━━━━━━━━━━━━━━━━━━\u001b[0m\u001b[37m\u001b[0m \u001b[1m11s\u001b[0m 649us/step - accuracy: 0.9695 - loss: 0.0872 - val_accuracy: 0.9675 - val_loss: 0.0922\n",
      "Epoch 11: early stopping\n"
     ]
    }
   ],
   "source": [
    "# Neural network model\n",
    "model = Sequential([\n",
    "    Input(shape=(X_train.shape[1],)),  # input shape \n",
    "    Dense(64, activation='relu'),\n",
    "    Dense(32, activation='relu'),\n",
    "    Dense(y_categorical.shape[1], activation='softmax')\n",
    "])\n",
    "\n",
    "# Define the early stopping callback\n",
    "early_stopping = EarlyStopping(\n",
    "    monitor='val_accuracy',  # Monitor validation accuracy\n",
    "    min_delta=0.01,  # Minimum change to qualify as an improvement\n",
    "    patience=10,  # How many epochs to wait for improvement\n",
    "    verbose=1,  # Log when training is stopped\n",
    "    mode='max',  # Stop training when the quantity monitored has stopped increasing\n",
    "    #restore_best_weights=True  # Restore model weights from the epoch with the best value of the monitored quantity.\n",
    ")\n",
    "\n",
    "\n",
    "model.compile(optimizer='adam', loss='categorical_crossentropy', metrics=['accuracy'])\n",
    "model.fit(X_train, y_train, validation_data=(X_val, y_val), epochs=50, batch_size=32,callbacks=[early_stopping])\n",
    "\n",
    "# Save the trained model\n",
    "model.save('trained_model.keras')  # Replace 'trained_model.keras' with your desired file path.If not trained model will be saved in the same folder as this notebook"
   ]
  },
  {
   "cell_type": "markdown",
   "id": "28a1c931-84ee-438e-9a27-ba130cad7474",
   "metadata": {},
   "source": [
    "## Model Statistics"
   ]
  },
  {
   "cell_type": "code",
   "execution_count": 137,
   "id": "64dc3c85-971c-4881-a25d-adff54e5e3a0",
   "metadata": {},
   "outputs": [
    {
     "name": "stdout",
     "output_type": "stream",
     "text": [
      "\u001b[1m4241/4241\u001b[0m \u001b[32m━━━━━━━━━━━━━━━━━━━━\u001b[0m\u001b[37m\u001b[0m \u001b[1m2s\u001b[0m 533us/step\n",
      "\n",
      "Confusion Matrix :\n",
      "                          Predicted\n",
      "              bacteroides     blank       blautia   \n",
      " bacteroides     62973         341          573     \n",
      "    blank         220          7056         410     \n",
      "   blautia        2320         540         61271    \n"
     ]
    }
   ],
   "source": [
    "# Make predictions\n",
    "y_pred = model.predict(X_val)\n",
    "y_pred_classes = np.argmax(y_pred, axis=1)\n",
    "y_true = np.argmax(y_val, axis=1)\n",
    "\n",
    "# Assuming y_true and y_pred_classes are defined and contain the true and predicted class labels\n",
    "# Compute the confusion matrix\n",
    "conf_matrix = confusion_matrix(y_true, y_pred_classes)\n",
    "\n",
    "# Define class labels (ensure these match the order used in your model)\n",
    "class_labels = ['bacteroides', 'blank', 'blautia']  # Adjust as per your classes\n",
    "\n",
    "# Calculate column widths based on the longest label\n",
    "label_length = max([len(label) for label in class_labels])\n",
    "column_width = max(label_length, max([len(str(x)) for x in conf_matrix.flatten()])) + 2  # Adding some padding\n",
    "\n",
    "# Print the confusion matrix with class labels for better readability\n",
    "print(\"\\nConfusion Matrix :\\n                          Predicted\")\n",
    "\n",
    "# Print header with class labels\n",
    "header_row = \"\".join(label.center(column_width) for label in [\"\"] + class_labels)\n",
    "print(header_row)\n",
    "\n",
    "# Print each row of the confusion matrix\n",
    "for label, row in zip(class_labels, conf_matrix):\n",
    "    row_str = \"\".join(str(x).center(column_width) for x in row)\n",
    "    print(f\"{label.center(column_width)}{row_str}\")"
   ]
  },
  {
   "cell_type": "code",
   "execution_count": 39,
   "id": "de075761-0dda-4e5c-b9d9-68dc2f418ca9",
   "metadata": {
    "scrolled": true
   },
   "outputs": [
    {
     "name": "stdout",
     "output_type": "stream",
     "text": [
      "\u001b[1m4241/4241\u001b[0m \u001b[32m━━━━━━━━━━━━━━━━━━━━\u001b[0m\u001b[37m\u001b[0m \u001b[1m2s\u001b[0m 478us/step - accuracy: 0.9674 - loss: 0.0932\n",
      "Evaluation Metrics:\n",
      "Loss: 0.09215909987688065\n",
      "Accuracy: 0.9675469994544983\n",
      "Classification Report:\n",
      "              precision    recall  f1-score   support\n",
      "\n",
      "           0       0.96      0.99      0.97     63887\n",
      "           1       0.89      0.92      0.90      7686\n",
      "           2       0.98      0.96      0.97     64131\n",
      "\n",
      "    accuracy                           0.97    135704\n",
      "   macro avg       0.94      0.95      0.95    135704\n",
      "weighted avg       0.97      0.97      0.97    135704\n",
      "\n"
     ]
    }
   ],
   "source": [
    "# Load the trained model\n",
    "#model = load_model('trained_model.keras') \n",
    "\n",
    "# Evaluate the loaded model\n",
    "evaluation = model.evaluate(X_val, y_val)\n",
    "\n",
    "# Print evaluation metrics\n",
    "print(\"Evaluation Metrics:\")\n",
    "print(\"Loss:\", evaluation[0])\n",
    "print(\"Accuracy:\", evaluation[1])\n",
    "\n",
    "# Classification Report\n",
    "print(\"Classification Report:\")\n",
    "print(classification_report(y_true, y_pred_classes))\n"
   ]
  },
  {
   "cell_type": "code",
   "execution_count": 40,
   "id": "05d9e09b-2448-4ed4-9e99-38bccfb35af0",
   "metadata": {},
   "outputs": [
    {
     "name": "stdout",
     "output_type": "stream",
     "text": [
      "{0: 'bacteroides', 1: 'blank', 2: 'blautia'}\n"
     ]
    }
   ],
   "source": [
    "# Check what 0, 1, and 2 correspond to in the labels for the encoding:\n",
    "labels_to_check = [0, 1, 2]\n",
    "original_labels = le.inverse_transform(labels_to_check)\n",
    "\n",
    "# Print the original string labels for 0, 1, and 2\n",
    "print({encoded: label for encoded, label in zip(labels_to_check, original_labels)})"
   ]
  },
  {
   "cell_type": "code",
   "execution_count": 41,
   "id": "e3ff58e9-c01a-471f-85e2-5fc8a60076aa",
   "metadata": {},
   "outputs": [
    {
     "name": "stdout",
     "output_type": "stream",
     "text": [
      "Counter({0: 65513, 2: 62254, 1: 7937})\n"
     ]
    }
   ],
   "source": [
    "#  predicted classes(look for the necoding, in our case 0 is bacteroides,1 is blanks and 2 is blautia)\n",
    "predicted_classes_distribution = Counter(y_pred_classes)\n",
    "print(predicted_classes_distribution)"
   ]
  },
  {
   "cell_type": "markdown",
   "id": "b1bab37a-ecb8-45af-a3bb-ad01a2e42e33",
   "metadata": {},
   "source": [
    "# Import the Coculture cytometry file and predict the labels"
   ]
  },
  {
   "cell_type": "code",
   "execution_count": 118,
   "id": "871085b3-937b-4a47-9892-e57460e2c272",
   "metadata": {},
   "outputs": [],
   "source": [
    "#Function to rpedict and import ,nothing to do here\n",
    "    \n",
    "def predict_species(filepath, model, columns_to_keep):\n",
    "    _, data = fcsparser.parse(filepath, reformat_meta=True)\n",
    "    data_df = pd.DataFrame(data)[columns_to_keep]\n",
    "    \n",
    "    #Z-standardization\n",
    "    X_co_scaled=scaler.transform(data_df)\n",
    "    \n",
    "    # Apply arcsinh transformation\n",
    "    data_df_arcsinh = np.arcsinh(X_co_scaled / 150)\n",
    "    \n",
    "    # Apply PCA whitening to the dataset\n",
    "    X_data_df_whitened = pca.transform(data_df_arcsinh)\n",
    "      \n",
    "    predictions = model.predict(X_data_df_whitened) #X_data_df_whitened\n",
    "    # Convert predictions to class labels\n",
    "    predicted_classes = np.argmax(predictions, axis=1)\n",
    "    return predicted_classes,data_df\n"
   ]
  },
  {
   "cell_type": "markdown",
   "id": "54c7d554-c516-479b-a1f8-8bb6aee9bf88",
   "metadata": {},
   "source": [
    "## Choose path of the Coculture and Predict"
   ]
  },
  {
   "cell_type": "code",
   "execution_count": 119,
   "id": "ea978613-aefa-43bd-b51f-e9001ad77175",
   "metadata": {},
   "outputs": [
    {
     "name": "stdout",
     "output_type": "stream",
     "text": [
      "bacteroides: 0\n",
      "blank: 1\n",
      "blautia: 2\n"
     ]
    }
   ],
   "source": [
    "for class_label, encoded_label in zip(le.classes_, range(len(le.classes_))):\n",
    "    print(f\"{class_label}: {encoded_label}\")"
   ]
  },
  {
   "cell_type": "code",
   "execution_count": 120,
   "id": "9335c7d3-df06-4f50-84f7-ff5f2fbe171b",
   "metadata": {},
   "outputs": [
    {
     "name": "stdout",
     "output_type": "stream",
     "text": [
      "\u001b[1m6671/6671\u001b[0m \u001b[32m━━━━━━━━━━━━━━━━━━━━\u001b[0m\u001b[37m\u001b[0m \u001b[1m3s\u001b[0m 518us/step\n"
     ]
    }
   ],
   "source": [
    "# Define the columns to keep\n",
    "columns_to_keep = [  'FSC-H','FSC-A','SSC-H','SSC-A','FITC-H', 'FITC-A','PerCP-H','PerCP-A','APC-H','APC-A','KO525-H','KO525-A','PE-H','PE-A','ECD-H','ECD-A','PI-H','PI-A','FSC-Width']\n",
    "\n",
    "# Import the Coculture path here\n",
    "coculture_filepath = 'C:/Users/herme/Desktop/Live_Dead_Data/BHBT/02-t28_d100_wc_bhbtA-D2.fcs' #here is the path to fsc\n",
    "\n",
    "C,data_df = predict_species(coculture_filepath, model, columns_to_keep)\n",
    "\n",
    "# fcsparser to load the coculture data and keep only chosen columns\n",
    "#_, coculture_raw_data = fcsparser.parse(coculture_filepath, reformat_meta=True)\n",
    "#coculture_data = pd.DataFrame(coculture_raw_data)[columns_to_keep]\n",
    "\n",
    "# Mapping prediction indices back to species names\n",
    "index_to_species = {0: 'bacteroides', 1: 'blank', 2: 'blautia'} \n",
    "mapped_predictions = np.vectorize(index_to_species.get)(C)\n",
    "\n",
    "# Adding predictions to the coculture data \n",
    "#coculture_data['predictions'] = mapped_predictions\n",
    "data_df['predictions'] = mapped_predictions"
   ]
  },
  {
   "cell_type": "markdown",
   "id": "3ccdb60d-aa96-410a-a405-9e2a73476a07",
   "metadata": {},
   "source": [
    "## Distributions Coculture"
   ]
  },
  {
   "cell_type": "markdown",
   "id": "a7427780-6d26-47a8-8000-615038a87429",
   "metadata": {},
   "source": [
    "#### Save it with plotly"
   ]
  },
  {
   "cell_type": "code",
   "execution_count": 120,
   "id": "e2c116d2-2ff0-4ce9-acdd-f902e8411be6",
   "metadata": {},
   "outputs": [],
   "source": [
    "features_to_visualize = ['SSC-A', 'PI-H', 'FITC-A']  # Features/channels to visualize\n",
    "colors = ['skyblue', 'red', 'lightgreen']  # Colors for each distribution\n",
    "\n",
    "fig = go.Figure()\n",
    "\n",
    "for i, feature in enumerate(features_to_visualize):\n",
    "    transformed_feature = np.arcsinh(data_df[feature] / 150)\n",
    "    # Add histogram for each feature\n",
    "    fig.add_trace(go.Histogram(x=transformed_feature,\n",
    "                               name=f'{feature} (arcsinh transformed)',\n",
    "                               marker_color=colors[i],\n",
    "                               opacity=0.6,\n",
    "                               histnorm='probability density'))\n",
    "\n",
    "fig.update_layout(title_text='Distributions of Channels (arcsinh transformed)',\n",
    "                  xaxis_title_text='Arcsinh Values',\n",
    "                  yaxis_title_text='Probability Density',\n",
    "                  legend_title_text='Feature')\n",
    "\n",
    "# Save the figure\n",
    "fig.write_html(\"Distrib_Coculture.html\")"
   ]
  },
  {
   "cell_type": "markdown",
   "id": "f421096d-ae9c-4607-bbec-1c5299bc54c6",
   "metadata": {},
   "source": [
    "#### Show the distributions with matplot"
   ]
  },
  {
   "cell_type": "code",
   "execution_count": 75,
   "id": "25b81d65-824b-4c4b-9fb7-4f150fbf894d",
   "metadata": {
    "scrolled": true
   },
   "outputs": [
    {
     "data": {
      "image/png": "[encoded data removed]",
      "text/plain": [
       "<Figure size 1000x700 with 1 Axes>"
      ]
     },
     "metadata": {},
     "output_type": "display_data"
    }
   ],
   "source": [
    "features_to_visualize = ['SSC-A', 'PI-H', 'FITC-A']  # Features/channels to visualize\n",
    "colors = ['skyblue', 'lightgreen', 'salmon']  # Colors for each distribution\n",
    "\n",
    "# Create a figure and axis\n",
    "plt.figure(figsize=(10, 7))\n",
    "\n",
    "# Loop through each feature to create a histogram\n",
    "for i, feature in enumerate(features_to_visualize):\n",
    "    # Apply arcsinh transformation\n",
    "    transformed_feature = np.arcsinh(data_df[feature] / 150)\n",
    "    \n",
    "    # Plot histogram for each transformed feature\n",
    "    plt.hist(transformed_feature, bins=30, color=colors[i], alpha=0.6, density=True, label=f'{feature} (arcsinh transformed)')\n",
    "\n",
    "# Update the layout\n",
    "plt.title('Distributions of Channels (arcsinh transformed)')\n",
    "plt.xlabel('Arcsinh Values')\n",
    "plt.ylabel('Probability Density')\n",
    "plt.legend()  # Show the legend\n",
    "\n",
    "# Show the plot\n",
    "plt.tight_layout()  # Adjust the layout to make room for the legend\n",
    "plt.show()"
   ]
  },
  {
   "cell_type": "markdown",
   "id": "c569a02e-dcf3-41fe-ab2c-83f7de3290ac",
   "metadata": {},
   "source": [
    "## Count and Check Predictions from Coculture"
   ]
  },
  {
   "cell_type": "code",
   "execution_count": 121,
   "id": "c22a87d1-d038-42a1-bcd6-f86e602f247a",
   "metadata": {},
   "outputs": [
    {
     "name": "stdout",
     "output_type": "stream",
     "text": [
      "               FSC-H         FSC-A         SSC-H         SSC-A        FITC-H  \\\n",
      "213467  10798.900391   7434.200195   6322.200195   5503.600098  296700.90625   \n",
      "213468  17582.800781  15157.799805  10243.700195   9262.500000  415642.90625   \n",
      "213469  14618.599609  10548.500000   8260.700195   7592.500000  387717.81250   \n",
      "213470   7441.399902   3454.899902   7194.799805   6292.600098  773979.50000   \n",
      "213471  25991.699219  15741.599609  14850.200195  13834.099609  442911.81250   \n",
      "\n",
      "               FITC-A        PerCP-H        PerCP-A       APC-H       APC-A  \\\n",
      "213467  260431.796875   48244.199219   53043.500000  174.100006  -62.700001   \n",
      "213468  370531.906250   74359.898438   70528.203125  359.799988  499.000000   \n",
      "213469  347071.187500   83250.296875   76744.101562  294.500000  267.500000   \n",
      "213470  697438.000000  339466.687500  308121.000000  300.299988   88.699997   \n",
      "213471  406831.406250   80446.703125   75348.101562  248.500000  301.000000   \n",
      "\n",
      "           KO525-H     KO525-A        PE-H        PE-A       ECD-H  \\\n",
      "213467  624.000000  349.399994  365.299988   32.000000  420.000000   \n",
      "213468  737.700012  476.100006  388.500000   69.099998  254.000000   \n",
      "213469  562.299988  450.500000  320.200012   75.099998  615.200012   \n",
      "213470  661.700012  346.299988  360.100006  114.800003  427.299988   \n",
      "213471  930.000000  700.400024  392.200012  169.899994  285.899994   \n",
      "\n",
      "             ECD-A        PI-H        PI-A   FSC-Width  predictions  \n",
      "213467   67.300003  300.799988  -90.699997  705.328369  bacteroides  \n",
      "213468   96.000000  195.600006  -14.500000  883.065979  bacteroides  \n",
      "213469  246.600006  239.300003  124.099998  738.995056  bacteroides  \n",
      "213470  420.600006  769.000000  785.599976  475.389252      blautia  \n",
      "213471  -52.900002  383.500000  208.500000  620.354675  bacteroides  \n"
     ]
    }
   ],
   "source": [
    "# Print the first five rows of coculture\n",
    "print(data_df.tail())\n"
   ]
  },
  {
   "cell_type": "code",
   "execution_count": 122,
   "id": "44b5a408-b77a-4664-8ce0-294dfc131403",
   "metadata": {},
   "outputs": [
    {
     "name": "stdout",
     "output_type": "stream",
     "text": [
      "Prediction Counts:\n",
      "predictions\n",
      "bacteroides    172974\n",
      "blautia         32545\n",
      "blank            7953\n",
      "Name: count, dtype: int64\n"
     ]
    }
   ],
   "source": [
    "# Prediction Counts\n",
    "prediction_counts = data_df['predictions'].value_counts()\n",
    "print(\"Prediction Counts:\")\n",
    "print(prediction_counts)"
   ]
  },
  {
   "cell_type": "markdown",
   "id": "b743103d-344c-4a8e-8623-87d3fe11b5a3",
   "metadata": {},
   "source": [
    "# Visualization"
   ]
  },
  {
   "cell_type": "code",
   "execution_count": 111,
   "id": "0c8477b8-b57a-404c-86cb-bbc889cafa32",
   "metadata": {
    "scrolled": true
   },
   "outputs": [],
   "source": [
    "# Apply arcsinh transformation to numeric columns\n",
    "\n",
    "coculture_data_numeric = data_df[[   'FSC-H','FSC-A','SSC-H','SSC-A','FITC-H', 'FITC-A','PerCP-H','PerCP-A','APC-H','APC-A','KO525-H','KO525-A','PE-H','PE-A','ECD-H','ECD-A','PI-H','PI-A','FSC-Width']]\n",
    "coculture_data_arcsin = np.arcsinh(coculture_data_numeric / 150)\n",
    "\n",
    "# Reintegrate 'predictions' column from original data\n",
    "coculture_data_arcsin['predictions'] = data_df['predictions']\n",
    "\n",
    "# Initialize LabelEncoder and encode the 'predictions' column\n",
    "#label_encoder = LabelEncoder()\n",
    "#coculture_data_arcsin['predictions_encoded'] = label_encoder.fit_transform(coculture_data_arcsin['predictions'])\n",
    "\n",
    "# colors for each prediction label\n",
    "color_map = {\n",
    "    'bacteroides': 'skyblue',  #  color for bacteroides\n",
    "    'blautia': 'lime',       #  color for blautia\n",
    "    'blank': 'gray'        # color for blank\n",
    "}\n",
    "\n",
    "# Create the 3D scatter plot using Plotly\n",
    "fig = px.scatter_3d(coculture_data_arcsin, x='SSC-A', y='FITC-A', z='PI-A', \n",
    "                    color='predictions',  \n",
    "                    color_discrete_map=color_map,  \n",
    "                    title=\"Coculture Predictions\", \n",
    "                    labels={'SSC-A': 'SSC-A', \n",
    "                            'FITC-A': 'FITC-A Fluorescence', \n",
    "                            'PI-H': 'PI-A Fluorescence', \n",
    "                            'predictions': 'Predictions'})\n",
    "\n",
    "# Adjust the layout to increase the size of the plot\n",
    "fig.update_layout(width=1000, height=800)\n",
    "fig.update_traces(marker=dict(size=1.1))  \n",
    "\n",
    "# Adjusting the legend size\n",
    "fig.update_layout(\n",
    "    legend=dict(\n",
    "        title_font_size=20,  \n",
    "        font=dict(\n",
    "            size=17,  \n",
    "        ),\n",
    "    )\n",
    ")\n",
    "\n",
    "#fig.show()\n",
    "fig.write_html('3D_coculture_predictions.html')"
   ]
  },
  {
   "cell_type": "markdown",
   "id": "5554ed2d-92f5-495a-a3e9-6fced3be7aaa",
   "metadata": {},
   "source": [
    "# Gating"
   ]
  },
  {
   "cell_type": "code",
   "execution_count": 123,
   "id": "e2a8d09a-0141-4522-b2e4-7de23e0efc4a",
   "metadata": {},
   "outputs": [],
   "source": [
    "def apply_gating(data_df, pi_threshold, sybr_threshold):\n",
    "    # Copy the DataFrame as to not change the original data \n",
    "    gated_data_df = data_df.copy()\n",
    "    \n",
    "    # applying arcsinh transformation with a cofactor\n",
    "    cofactor = 150  # Cofactor for arcsinh transformation\n",
    "\n",
    "    # Apply arcsinh transformation to numerical columns only\n",
    "    for column in gated_data_df.select_dtypes(include=[np.number]).columns:\n",
    "        gated_data_df[column] = np.arcsinh(gated_data_df[column] / cofactor)\n",
    "    \n",
    "    # Initialize the 'state' column with 'live' assuming most cells are live\n",
    "    gated_data_df['state'] = 'live'\n",
    "    \n",
    "    # Identify inactive cells based on PI threshold\n",
    "    gated_data_df.loc[gated_data_df['PI-A'] > pi_threshold, 'state'] = 'inactive'\n",
    "    \n",
    "    # Identify debris based on SYBR green (FITC-A) threshold among the remaining 'live' cells\n",
    "    gated_data_df.loc[(gated_data_df['state'] == 'live') & (gated_data_df['FITC-A'] < sybr_threshold), 'state'] = 'debris'\n",
    "    \n",
    "    return gated_data_df\n",
    "\n",
    "# Define your PI and SYBR green thresholds\n",
    "pi_threshold = 2                  # Define your PI threshold value here\n",
    "sybr_threshold = 7                # Define your SYBR green threshold value here\n",
    "\n",
    "# Apply gating to the data\n",
    "gated_data_df = apply_gating(data_df, pi_threshold, sybr_threshold)"
   ]
  },
  {
   "cell_type": "code",
   "execution_count": 124,
   "id": "8771b712-e937-4f11-b256-7e29f70c42ff",
   "metadata": {},
   "outputs": [],
   "source": [
    "#print(gated_data_df)"
   ]
  },
  {
   "cell_type": "markdown",
   "id": "feea1a63-dbcf-4838-87c6-e7763f97b624",
   "metadata": {},
   "source": [
    "### Counts after gating coculture and predictions"
   ]
  },
  {
   "cell_type": "code",
   "execution_count": 125,
   "id": "32695fd2-0548-454b-b309-e9ec2b15492f",
   "metadata": {},
   "outputs": [
    {
     "name": "stdout",
     "output_type": "stream",
     "text": [
      "State Counts:\n",
      "state\n",
      "live        188275\n",
      "inactive     24823\n",
      "debris         374\n",
      "Name: count, dtype: int64\n"
     ]
    }
   ],
   "source": [
    "# Prediction Counts\n",
    "state_counts = gated_data_df['state'].value_counts()\n",
    "print(\"State Counts:\")\n",
    "print(state_counts)"
   ]
  },
  {
   "cell_type": "code",
   "execution_count": 126,
   "id": "f42d1862-c1e3-4190-ba4e-4392c915de15",
   "metadata": {},
   "outputs": [
    {
     "name": "stdout",
     "output_type": "stream",
     "text": [
      "Bacteroides State Counts:\n",
      "state\n",
      "live        168242\n",
      "inactive      4606\n",
      "debris         126\n",
      "Name: count, dtype: int64\n",
      "\n",
      "Blautia State Counts:\n",
      "state\n",
      "live        19543\n",
      "inactive    12964\n",
      "debris         38\n",
      "Name: count, dtype: int64\n",
      "\n",
      "Blanks State Counts:\n",
      "state\n",
      "inactive    7253\n",
      "live         490\n",
      "debris       210\n",
      "Name: count, dtype: int64\n"
     ]
    }
   ],
   "source": [
    "# Filter for each condition\n",
    "bacteroides_counts = gated_data_df[gated_data_df['predictions'] == 'bacteroides']['state'].value_counts()\n",
    "blautia_counts = gated_data_df[gated_data_df['predictions'] == 'blautia']['state'].value_counts()\n",
    "blanks_counts = gated_data_df[gated_data_df['predictions'] == 'blank']['state'].value_counts()\n",
    "\n",
    "# Print \n",
    "print(\"Bacteroides State Counts:\")\n",
    "print(bacteroides_counts)\n",
    "print(\"\\nBlautia State Counts:\")\n",
    "print(blautia_counts)\n",
    "print(\"\\nBlanks State Counts:\")\n",
    "print(blanks_counts)\n"
   ]
  },
  {
   "cell_type": "markdown",
   "id": "358945ff-b04a-4a72-88b0-7a2aa359de88",
   "metadata": {},
   "source": [
    "###  3D plot with the gating classifications"
   ]
  },
  {
   "cell_type": "code",
   "execution_count": 71,
   "id": "90e8f3b9-d8fc-41dd-8e3e-3ef3f6f6242a",
   "metadata": {},
   "outputs": [],
   "source": [
    "# Create a 3D scatter plot\n",
    "fig = go.Figure()\n",
    "\n",
    "# applying arcsinh transformation with a cofactor\n",
    "#cofactor = 150  # Cofactor for arcsinh transformation\n",
    "\n",
    "# Apply arcsinh transformation to numerical columns only\n",
    "#for column in gated_data_df.select_dtypes(include=[np.number]).columns:\n",
    "   # gated_data_df[column] = np.arcsinh(gated_data_df[column] / cofactor)\n",
    "\n",
    "\n",
    "#  unique states and predictions for color\n",
    "states = gated_data_df['state'].unique()\n",
    "predictions = gated_data_df['predictions'].unique()\n",
    "\n",
    "# Color map \n",
    "state_colors = {'live': 'skyblue', 'inactive': 'firebrick', 'debris': 'darkslategrey'}\n",
    "prediction_markers = {'bacteroides': 'circle', 'blank': 'square', 'blautia': 'diamond'}\n",
    "\n",
    "# Plot each combination of state and prediction\n",
    "for state in states:\n",
    "    for prediction in predictions:\n",
    "        df_filtered = gated_data_df[(gated_data_df['state'] == state) & (gated_data_df['predictions'] == prediction)]\n",
    "        fig.add_trace(go.Scatter3d(\n",
    "            x=df_filtered['SSC-A'],\n",
    "            y=df_filtered['FITC-A'],\n",
    "            z=df_filtered['PI-H'],\n",
    "            mode='markers',\n",
    "            marker=dict(\n",
    "                size=1,\n",
    "                symbol=prediction_markers[prediction],  #  markers for predictions\n",
    "                color=state_colors[state],  #  color state\n",
    "            ),\n",
    "            name=f'{state} - {prediction}'\n",
    "        ))\n",
    "\n",
    "# layout \n",
    "fig.update_layout(\n",
    "    title=\"3D Scatter Plot of Gated Data by State and Prediction\",\n",
    "    scene=dict(\n",
    "        xaxis_title='SSC-A',\n",
    "        yaxis_title='FITC-A',\n",
    "        zaxis_title='PI-H'\n",
    "    )\n",
    ")\n",
    "fig.update_layout(width=1000, height=800)\n",
    "\n",
    "# Adjusting the legend size\n",
    "fig.update_layout(\n",
    "    legend=dict(\n",
    "        title_font_size=20,  \n",
    "        font=dict(\n",
    "            size=17,  \n",
    "        ),\n",
    "    )\n",
    ")\n",
    "\n",
    "fig.write_html('3D_Gating_predictions_coculture.html')\n",
    "#fig.show()"
   ]
  },
  {
   "cell_type": "code",
   "execution_count": null,
   "id": "ec4eb90b-0492-457b-ad08-ca4ffb189c8f",
   "metadata": {},
   "outputs": [],
   "source": []
  }
 ],
 "metadata": {
  "kernelspec": {
   "display_name": "Python 3 (ipykernel)",
   "language": "python",
   "name": "python3"
  },
  "language_info": {
   "codemirror_mode": {
    "name": "ipython",
    "version": 3
   },
   "file_extension": ".py",
   "mimetype": "text/x-python",
   "name": "python",
   "nbconvert_exporter": "python",
   "pygments_lexer": "ipython3",
   "version": "3.11.7"
  }
 },
 "nbformat": 4,
 "nbformat_minor": 5
}
